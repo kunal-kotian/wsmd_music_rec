{
 "cells": [
  {
   "cell_type": "code",
   "execution_count": 1,
   "metadata": {
    "ExecuteTime": {
     "end_time": "2017-11-27T01:12:47.097341Z",
     "start_time": "2017-11-27T01:12:47.090006Z"
    }
   },
   "outputs": [
    {
     "data": {
      "text/html": [
       "<style>.container { width:100% !important; }</style>"
      ],
      "text/plain": [
       "<IPython.core.display.HTML object>"
      ]
     },
     "metadata": {},
     "output_type": "display_data"
    }
   ],
   "source": [
    "from IPython.core.display import HTML, display\n",
    "display(HTML(\"<style>.container { width:100% !important; }</style>\"))"
   ]
  },
  {
   "cell_type": "code",
   "execution_count": 2,
   "metadata": {
    "ExecuteTime": {
     "end_time": "2017-11-27T01:12:47.750908Z",
     "start_time": "2017-11-27T01:12:47.582798Z"
    },
    "collapsed": true
   },
   "outputs": [],
   "source": [
    "%load_ext autoreload\n",
    "%autoreload 2\n",
    "%matplotlib inline"
   ]
  },
  {
   "cell_type": "code",
   "execution_count": 3,
   "metadata": {
    "ExecuteTime": {
     "end_time": "2017-11-27T01:12:48.290627Z",
     "start_time": "2017-11-27T01:12:48.063983Z"
    }
   },
   "outputs": [
    {
     "name": "stdout",
     "output_type": "stream",
     "text": [
      "ln: failed to create symbolic link './fastai': File exists\r\n"
     ]
    }
   ],
   "source": [
    "# Specify the path to the fastai directory\n",
    "lib_PATH = '/home/ubuntu/fastai/fastai'   # Update this\n",
    "!cd {lib_PATH}\n",
    "# Create sym-link to the fastai library\n",
    "!ln -s {lib_PATH} ./"
   ]
  },
  {
   "cell_type": "code",
   "execution_count": 4,
   "metadata": {
    "ExecuteTime": {
     "end_time": "2017-11-27T01:12:49.115584Z",
     "start_time": "2017-11-27T01:12:48.670694Z"
    },
    "collapsed": true
   },
   "outputs": [],
   "source": [
    "# Load required modules\n",
    "from fastai.imports import *\n",
    "from fastai.structured import *\n",
    "from pandas_summary import DataFrameSummary\n",
    "from sklearn.ensemble import RandomForestClassifier\n",
    "from IPython.display import display\n",
    "from sklearn import metrics\n",
    "from sklearn.metrics import roc_auc_score\n",
    "from dateutil.relativedelta import relativedelta\n",
    "from sklearn.model_selection import train_test_split"
   ]
  },
  {
   "cell_type": "markdown",
   "metadata": {},
   "source": [
    "# Load Cleaned Data"
   ]
  },
  {
   "cell_type": "code",
   "execution_count": 5,
   "metadata": {
    "ExecuteTime": {
     "end_time": "2017-11-27T01:12:52.475843Z",
     "start_time": "2017-11-27T01:12:51.030972Z"
    },
    "collapsed": true
   },
   "outputs": [],
   "source": [
    "train = pd.read_feather('/home/ubuntu/wsmd_music_rec/data/tmp/wsdm_train')\n",
    "test = pd.read_feather('/home/ubuntu/wsmd_music_rec/data/tmp/wsdm_test')"
   ]
  },
  {
   "cell_type": "code",
   "execution_count": 6,
   "metadata": {
    "ExecuteTime": {
     "end_time": "2017-11-27T01:13:02.055066Z",
     "start_time": "2017-11-27T01:13:01.627582Z"
    },
    "collapsed": true
   },
   "outputs": [],
   "source": [
    "train.num_plays_by_city.fillna(-1, inplace=True)\n",
    "train['num_plays_by_city'] = train['num_plays_by_city'].astype(np.int32)\n",
    "test.num_plays_by_city.fillna(-1, inplace=True)\n",
    "test['num_plays_by_city'] = test['num_plays_by_city'].astype(np.int32)"
   ]
  },
  {
   "cell_type": "code",
   "execution_count": 7,
   "metadata": {
    "ExecuteTime": {
     "end_time": "2017-11-27T01:13:08.989378Z",
     "start_time": "2017-11-27T01:13:03.789962Z"
    },
    "collapsed": true
   },
   "outputs": [],
   "source": [
    "df, y, nas = proc_df(train, 'target')    # proc_df deals with na values"
   ]
  },
  {
   "cell_type": "markdown",
   "metadata": {
    "ExecuteTime": {
     "end_time": "2017-11-24T23:32:24.464905Z",
     "start_time": "2017-11-24T23:32:24.421898Z"
    }
   },
   "source": [
    "# Split into Training + Validation Sets"
   ]
  },
  {
   "cell_type": "code",
   "execution_count": null,
   "metadata": {
    "collapsed": true
   },
   "outputs": [],
   "source": [
    "# def split_vals(a, n): return a[:n].copy(), a[n:].copy()\n",
    "# https://www.kaggle.com/kamilkk/i-have-to-say-this\n",
    "# temporally ordered data - set val. set = test set's length"
   ]
  },
  {
   "cell_type": "code",
   "execution_count": 8,
   "metadata": {
    "ExecuteTime": {
     "end_time": "2017-11-27T01:13:13.236339Z",
     "start_time": "2017-11-27T01:13:08.990626Z"
    }
   },
   "outputs": [
    {
     "data": {
      "text/plain": [
       "((5533063, 39), (5533063,), (1844355, 39))"
      ]
     },
     "execution_count": 8,
     "metadata": {},
     "output_type": "execute_result"
    }
   ],
   "source": [
    "# len_valid = len(test)\n",
    "# n_trn = len(df) - len_valid\n",
    "# X_train, X_valid = split_vals(df, n_trn)\n",
    "# y_train, y_valid = split_vals(y, n_trn)\n",
    "\n",
    "X_train, X_valid, y_train, y_valid = train_test_split(df, y, test_size=0.25)\n",
    "\n",
    "X_train.shape, y_train.shape, X_valid.shape"
   ]
  },
  {
   "cell_type": "markdown",
   "metadata": {},
   "source": [
    "# Train the Random Forest"
   ]
  },
  {
   "cell_type": "code",
   "execution_count": null,
   "metadata": {
    "ExecuteTime": {
     "end_time": "2017-11-27T00:59:35.201447Z",
     "start_time": "2017-11-27T00:59:35.183295Z"
    },
    "collapsed": true
   },
   "outputs": [],
   "source": [
    "def rmse(x,y): return math.sqrt(((x-y)**2).mean())\n",
    "\n",
    "def print_score(m):\n",
    "    auc_trn   = roc_auc_score(y_train, m.predict_proba(X_train)[:, 1])\n",
    "    auc_valid = roc_auc_score(y_valid, m.predict_proba(X_valid)[:, 1])\n",
    "    res = [auc_trn, auc_valid]\n",
    "    if hasattr(m, 'oob_score_'): res.append(m.oob_score_)\n",
    "    print('auc_trn, auc_valid')\n",
    "    print(res)"
   ]
  },
  {
   "cell_type": "code",
   "execution_count": null,
   "metadata": {
    "ExecuteTime": {
     "end_time": "2017-11-27T01:02:07.831732Z",
     "start_time": "2017-11-27T01:02:07.818632Z"
    },
    "collapsed": true
   },
   "outputs": [],
   "source": [
    "# set_rf_samples(1_000_000)\n",
    "reset_rf_samples()"
   ]
  },
  {
   "cell_type": "code",
   "execution_count": null,
   "metadata": {
    "ExecuteTime": {
     "end_time": "2017-11-27T01:04:34.100476Z",
     "start_time": "2017-11-27T01:02:11.681679Z"
    }
   },
   "outputs": [],
   "source": [
    "m = RandomForestClassifier(n_estimators=50, min_samples_leaf=5, n_jobs=-1, verbose=1)\n",
    "%time m.fit(X_train, y_train)"
   ]
  },
  {
   "cell_type": "code",
   "execution_count": null,
   "metadata": {
    "ExecuteTime": {
     "end_time": "2017-11-27T01:05:13.320774Z",
     "start_time": "2017-11-27T01:04:39.395995Z"
    }
   },
   "outputs": [],
   "source": [
    "print_score(m)"
   ]
  },
  {
   "cell_type": "markdown",
   "metadata": {},
   "source": [
    "# Retrain Model Using All Data"
   ]
  },
  {
   "cell_type": "code",
   "execution_count": 9,
   "metadata": {
    "ExecuteTime": {
     "end_time": "2017-11-27T01:13:17.651768Z",
     "start_time": "2017-11-27T01:13:17.638803Z"
    },
    "collapsed": true
   },
   "outputs": [],
   "source": [
    "def print_score_final(m):\n",
    "    auc_trn = roc_auc_score(y, m.predict_proba(df)[:, 1])\n",
    "    res = [auc_trn]\n",
    "    if hasattr(m, 'oob_score_'): res.append(m.oob_score_)\n",
    "    print('auc_trn')\n",
    "    print(res)"
   ]
  },
  {
   "cell_type": "code",
   "execution_count": 10,
   "metadata": {
    "ExecuteTime": {
     "end_time": "2017-11-27T01:13:19.040694Z",
     "start_time": "2017-11-27T01:13:19.026588Z"
    },
    "collapsed": true
   },
   "outputs": [],
   "source": [
    "# set_rf_samples(1_000_000)\n",
    "reset_rf_samples()"
   ]
  },
  {
   "cell_type": "code",
   "execution_count": null,
   "metadata": {
    "ExecuteTime": {
     "start_time": "2017-11-27T01:13:21.996Z"
    }
   },
   "outputs": [],
   "source": [
    "m_final = RandomForestClassifier(n_estimators=50, min_samples_leaf=5, n_jobs=-1, verbose=1)\n",
    "%time m_final.fit(df, y)"
   ]
  },
  {
   "cell_type": "code",
   "execution_count": null,
   "metadata": {
    "ExecuteTime": {
     "end_time": "2017-11-27T01:09:52.771694Z",
     "start_time": "2017-11-27T01:09:19.563629Z"
    }
   },
   "outputs": [],
   "source": [
    "print_score_final(m_final)"
   ]
  },
  {
   "cell_type": "markdown",
   "metadata": {},
   "source": [
    "# Make Predictions"
   ]
  },
  {
   "cell_type": "code",
   "execution_count": null,
   "metadata": {
    "ExecuteTime": {
     "end_time": "2017-11-26T11:41:54.582451Z",
     "start_time": "2017-11-26T11:41:53.714063Z"
    },
    "collapsed": true
   },
   "outputs": [],
   "source": [
    "# train_cats(test)"
   ]
  },
  {
   "cell_type": "code",
   "execution_count": null,
   "metadata": {
    "ExecuteTime": {
     "end_time": "2017-11-27T01:11:15.078121Z",
     "start_time": "2017-11-27T01:11:13.356287Z"
    },
    "collapsed": true
   },
   "outputs": [],
   "source": [
    "test_df, _, _ = proc_df(test, 'id')"
   ]
  },
  {
   "cell_type": "code",
   "execution_count": null,
   "metadata": {
    "ExecuteTime": {
     "end_time": "2017-11-27T01:10:09.597196Z",
     "start_time": "2017-11-27T01:10:04.760120Z"
    }
   },
   "outputs": [],
   "source": [
    "%time predictions = m_final.predict_proba(test_df)[:, 1]"
   ]
  },
  {
   "cell_type": "code",
   "execution_count": null,
   "metadata": {
    "ExecuteTime": {
     "end_time": "2017-11-26T11:42:16.564195Z",
     "start_time": "2017-11-26T11:42:11.951422Z"
    },
    "collapsed": true
   },
   "outputs": [],
   "source": [
    "output = pd.concat([test['id'], pd.DataFrame(predictions)], axis=1)\n",
    "output.columns = ['id', 'target']   #Changing column names\n",
    "output.to_csv('predicted.csv', index=False)"
   ]
  },
  {
   "cell_type": "code",
   "execution_count": null,
   "metadata": {
    "collapsed": true
   },
   "outputs": [],
   "source": []
  }
 ],
 "metadata": {
  "kernelspec": {
   "display_name": "Python 3",
   "language": "python",
   "name": "python3"
  },
  "language_info": {
   "codemirror_mode": {
    "name": "ipython",
    "version": 3
   },
   "file_extension": ".py",
   "mimetype": "text/x-python",
   "name": "python",
   "nbconvert_exporter": "python",
   "pygments_lexer": "ipython3",
   "version": "3.6.3"
  },
  "toc": {
   "nav_menu": {},
   "number_sections": true,
   "sideBar": true,
   "skip_h1_title": false,
   "toc_cell": false,
   "toc_position": {},
   "toc_section_display": "block",
   "toc_window_display": false
  },
  "varInspector": {
   "cols": {
    "lenName": 16,
    "lenType": 16,
    "lenVar": 40
   },
   "kernels_config": {
    "python": {
     "delete_cmd_postfix": "",
     "delete_cmd_prefix": "del ",
     "library": "var_list.py",
     "varRefreshCmd": "print(var_dic_list())"
    },
    "r": {
     "delete_cmd_postfix": ") ",
     "delete_cmd_prefix": "rm(",
     "library": "var_list.r",
     "varRefreshCmd": "cat(var_dic_list()) "
    }
   },
   "types_to_exclude": [
    "module",
    "function",
    "builtin_function_or_method",
    "instance",
    "_Feature"
   ],
   "window_display": false
  }
 },
 "nbformat": 4,
 "nbformat_minor": 2
}
