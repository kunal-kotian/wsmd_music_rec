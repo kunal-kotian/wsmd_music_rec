{
 "cells": [
  {
   "cell_type": "code",
   "execution_count": 1,
   "metadata": {
    "ExecuteTime": {
     "end_time": "2017-11-26T23:46:52.061670Z",
     "start_time": "2017-11-26T23:46:52.054001Z"
    }
   },
   "outputs": [
    {
     "data": {
      "text/html": [
       "<style>.container { width:100% !important; }</style>"
      ],
      "text/plain": [
       "<IPython.core.display.HTML object>"
      ]
     },
     "metadata": {},
     "output_type": "display_data"
    }
   ],
   "source": [
    "from IPython.core.display import HTML, display\n",
    "display(HTML(\"<style>.container { width:100% !important; }</style>\"))"
   ]
  },
  {
   "cell_type": "code",
   "execution_count": 2,
   "metadata": {
    "ExecuteTime": {
     "end_time": "2017-11-26T23:46:52.389938Z",
     "start_time": "2017-11-26T23:46:52.223321Z"
    },
    "collapsed": true
   },
   "outputs": [],
   "source": [
    "%load_ext autoreload\n",
    "%autoreload 2\n",
    "%matplotlib inline"
   ]
  },
  {
   "cell_type": "code",
   "execution_count": 3,
   "metadata": {
    "ExecuteTime": {
     "end_time": "2017-11-26T23:46:52.644264Z",
     "start_time": "2017-11-26T23:46:52.417259Z"
    }
   },
   "outputs": [
    {
     "name": "stdout",
     "output_type": "stream",
     "text": [
      "ln: failed to create symbolic link './fastai': File exists\r\n"
     ]
    }
   ],
   "source": [
    "# Specify the path to the fastai directory\n",
    "lib_PATH = '/home/ubuntu/fastai/fastai'   # Update this\n",
    "!cd {lib_PATH}\n",
    "# Create sym-link to the fastai library\n",
    "!ln -s {lib_PATH} ./"
   ]
  },
  {
   "cell_type": "code",
   "execution_count": 4,
   "metadata": {
    "ExecuteTime": {
     "end_time": "2017-11-26T23:46:53.171933Z",
     "start_time": "2017-11-26T23:46:52.730555Z"
    },
    "collapsed": true
   },
   "outputs": [],
   "source": [
    "# Load required modules\n",
    "from fastai.imports import *\n",
    "from fastai.structured import *\n",
    "from pandas_summary import DataFrameSummary\n",
    "from sklearn.ensemble import RandomForestRegressor\n",
    "from IPython.display import display\n",
    "from sklearn import metrics\n",
    "from dateutil.relativedelta import relativedelta"
   ]
  },
  {
   "cell_type": "markdown",
   "metadata": {},
   "source": [
    "# Load Data"
   ]
  },
  {
   "cell_type": "markdown",
   "metadata": {},
   "source": [
    "## `train.csv`"
   ]
  },
  {
   "cell_type": "code",
   "execution_count": 5,
   "metadata": {
    "ExecuteTime": {
     "end_time": "2017-11-26T23:46:54.944043Z",
     "start_time": "2017-11-26T23:46:54.929127Z"
    },
    "collapsed": true
   },
   "outputs": [],
   "source": [
    "PATH = '/home/ubuntu/wsmd_music_rec/data/'"
   ]
  },
  {
   "cell_type": "code",
   "execution_count": 6,
   "metadata": {
    "ExecuteTime": {
     "end_time": "2017-11-26T23:47:04.181556Z",
     "start_time": "2017-11-26T23:46:55.266121Z"
    }
   },
   "outputs": [
    {
     "data": {
      "text/html": [
       "<div>\n",
       "<style>\n",
       "    .dataframe thead tr:only-child th {\n",
       "        text-align: right;\n",
       "    }\n",
       "\n",
       "    .dataframe thead th {\n",
       "        text-align: left;\n",
       "    }\n",
       "\n",
       "    .dataframe tbody tr th {\n",
       "        vertical-align: top;\n",
       "    }\n",
       "</style>\n",
       "<table border=\"1\" class=\"dataframe\">\n",
       "  <thead>\n",
       "    <tr style=\"text-align: right;\">\n",
       "      <th></th>\n",
       "      <th>msno</th>\n",
       "      <th>song_id</th>\n",
       "      <th>source_system_tab</th>\n",
       "      <th>source_screen_name</th>\n",
       "      <th>source_type</th>\n",
       "      <th>target</th>\n",
       "    </tr>\n",
       "  </thead>\n",
       "  <tbody>\n",
       "    <tr>\n",
       "      <th>0</th>\n",
       "      <td>FGtllVqz18RPiwJj/edr2gV78zirAiY/9SmYvia+kCg=</td>\n",
       "      <td>BBzumQNXUHKdEBOB7mAJuzok+IJA1c2Ryg/yzTF6tik=</td>\n",
       "      <td>explore</td>\n",
       "      <td>Explore</td>\n",
       "      <td>online-playlist</td>\n",
       "      <td>1</td>\n",
       "    </tr>\n",
       "    <tr>\n",
       "      <th>1</th>\n",
       "      <td>Xumu+NIjS6QYVxDS4/t3SawvJ7viT9hPKXmf0RtLNx8=</td>\n",
       "      <td>bhp/MpSNoqoxOIB+/l8WPqu6jldth4DIpCm3ayXnJqM=</td>\n",
       "      <td>my library</td>\n",
       "      <td>Local playlist more</td>\n",
       "      <td>local-playlist</td>\n",
       "      <td>1</td>\n",
       "    </tr>\n",
       "    <tr>\n",
       "      <th>2</th>\n",
       "      <td>Xumu+NIjS6QYVxDS4/t3SawvJ7viT9hPKXmf0RtLNx8=</td>\n",
       "      <td>JNWfrrC7zNN7BdMpsISKa4Mw+xVJYNnxXh3/Epw7QgY=</td>\n",
       "      <td>my library</td>\n",
       "      <td>Local playlist more</td>\n",
       "      <td>local-playlist</td>\n",
       "      <td>1</td>\n",
       "    </tr>\n",
       "    <tr>\n",
       "      <th>3</th>\n",
       "      <td>Xumu+NIjS6QYVxDS4/t3SawvJ7viT9hPKXmf0RtLNx8=</td>\n",
       "      <td>2A87tzfnJTSWqD7gIZHisolhe4DMdzkbd6LzO1KHjNs=</td>\n",
       "      <td>my library</td>\n",
       "      <td>Local playlist more</td>\n",
       "      <td>local-playlist</td>\n",
       "      <td>1</td>\n",
       "    </tr>\n",
       "    <tr>\n",
       "      <th>4</th>\n",
       "      <td>FGtllVqz18RPiwJj/edr2gV78zirAiY/9SmYvia+kCg=</td>\n",
       "      <td>3qm6XTZ6MOCU11x8FIVbAGH5l5uMkT3/ZalWG1oo2Gc=</td>\n",
       "      <td>explore</td>\n",
       "      <td>Explore</td>\n",
       "      <td>online-playlist</td>\n",
       "      <td>1</td>\n",
       "    </tr>\n",
       "  </tbody>\n",
       "</table>\n",
       "</div>"
      ],
      "text/plain": [
       "                                           msno  \\\n",
       "0  FGtllVqz18RPiwJj/edr2gV78zirAiY/9SmYvia+kCg=   \n",
       "1  Xumu+NIjS6QYVxDS4/t3SawvJ7viT9hPKXmf0RtLNx8=   \n",
       "2  Xumu+NIjS6QYVxDS4/t3SawvJ7viT9hPKXmf0RtLNx8=   \n",
       "3  Xumu+NIjS6QYVxDS4/t3SawvJ7viT9hPKXmf0RtLNx8=   \n",
       "4  FGtllVqz18RPiwJj/edr2gV78zirAiY/9SmYvia+kCg=   \n",
       "\n",
       "                                        song_id source_system_tab  \\\n",
       "0  BBzumQNXUHKdEBOB7mAJuzok+IJA1c2Ryg/yzTF6tik=           explore   \n",
       "1  bhp/MpSNoqoxOIB+/l8WPqu6jldth4DIpCm3ayXnJqM=        my library   \n",
       "2  JNWfrrC7zNN7BdMpsISKa4Mw+xVJYNnxXh3/Epw7QgY=        my library   \n",
       "3  2A87tzfnJTSWqD7gIZHisolhe4DMdzkbd6LzO1KHjNs=        my library   \n",
       "4  3qm6XTZ6MOCU11x8FIVbAGH5l5uMkT3/ZalWG1oo2Gc=           explore   \n",
       "\n",
       "    source_screen_name      source_type  target  \n",
       "0              Explore  online-playlist       1  \n",
       "1  Local playlist more   local-playlist       1  \n",
       "2  Local playlist more   local-playlist       1  \n",
       "3  Local playlist more   local-playlist       1  \n",
       "4              Explore  online-playlist       1  "
      ]
     },
     "execution_count": 6,
     "metadata": {},
     "output_type": "execute_result"
    }
   ],
   "source": [
    "train = pd.read_csv(f'{PATH}train.csv')\n",
    "train.head()"
   ]
  },
  {
   "cell_type": "code",
   "execution_count": null,
   "metadata": {
    "ExecuteTime": {
     "end_time": "2017-11-24T23:24:01.016537Z",
     "start_time": "2017-11-24T23:23:50.868028Z"
    }
   },
   "outputs": [],
   "source": [
    "def display_all(df):\n",
    "    with pd.option_context(\"display.max_rows\", 1000): \n",
    "        with pd.option_context(\"display.max_columns\", 1000): \n",
    "            display(df)\n",
    "display_all(train.describe(include='all').transpose())"
   ]
  },
  {
   "cell_type": "code",
   "execution_count": null,
   "metadata": {
    "ExecuteTime": {
     "end_time": "2017-11-24T23:24:03.514844Z",
     "start_time": "2017-11-24T23:24:01.020146Z"
    }
   },
   "outputs": [],
   "source": [
    "train.isnull().any()"
   ]
  },
  {
   "cell_type": "markdown",
   "metadata": {},
   "source": [
    "## `songs.csv`"
   ]
  },
  {
   "cell_type": "code",
   "execution_count": null,
   "metadata": {
    "ExecuteTime": {
     "end_time": "2017-11-24T23:24:09.206954Z",
     "start_time": "2017-11-24T23:24:03.517889Z"
    },
    "collapsed": true
   },
   "outputs": [],
   "source": [
    "songs = pd.read_csv(f'{PATH}songs.csv')"
   ]
  },
  {
   "cell_type": "code",
   "execution_count": null,
   "metadata": {
    "ExecuteTime": {
     "end_time": "2017-11-24T23:24:09.264935Z",
     "start_time": "2017-11-24T23:24:09.212008Z"
    }
   },
   "outputs": [],
   "source": [
    "songs.head()"
   ]
  },
  {
   "cell_type": "code",
   "execution_count": null,
   "metadata": {
    "ExecuteTime": {
     "end_time": "2017-11-24T23:24:10.053149Z",
     "start_time": "2017-11-24T23:24:09.268824Z"
    }
   },
   "outputs": [],
   "source": [
    "songs.isnull().any()"
   ]
  },
  {
   "cell_type": "code",
   "execution_count": null,
   "metadata": {
    "ExecuteTime": {
     "end_time": "2017-11-24T23:24:17.030319Z",
     "start_time": "2017-11-24T23:24:10.057333Z"
    }
   },
   "outputs": [],
   "source": [
    "display_all(songs.describe(include='all').transpose())"
   ]
  },
  {
   "cell_type": "markdown",
   "metadata": {},
   "source": [
    "## `members.csv`"
   ]
  },
  {
   "cell_type": "code",
   "execution_count": null,
   "metadata": {
    "ExecuteTime": {
     "end_time": "2017-11-24T23:24:17.181540Z",
     "start_time": "2017-11-24T23:24:17.034134Z"
    }
   },
   "outputs": [],
   "source": [
    "members = pd.read_csv(f'{PATH}members.csv', parse_dates=['registration_init_time','expiration_date'])\n",
    "members.head()"
   ]
  },
  {
   "cell_type": "code",
   "execution_count": null,
   "metadata": {
    "ExecuteTime": {
     "end_time": "2017-11-24T23:24:17.394893Z",
     "start_time": "2017-11-24T23:24:17.184457Z"
    }
   },
   "outputs": [],
   "source": [
    "display_all(members.describe(include='all').transpose())"
   ]
  },
  {
   "cell_type": "markdown",
   "metadata": {},
   "source": [
    "## `song_extra_info.csv`"
   ]
  },
  {
   "cell_type": "code",
   "execution_count": null,
   "metadata": {
    "ExecuteTime": {
     "end_time": "2017-11-24T23:24:23.023894Z",
     "start_time": "2017-11-24T23:24:17.397463Z"
    }
   },
   "outputs": [],
   "source": [
    "songs_extra = pd.read_csv(f'{PATH}song_extra_info.csv')\n",
    "songs_extra.head()"
   ]
  },
  {
   "cell_type": "code",
   "execution_count": null,
   "metadata": {
    "ExecuteTime": {
     "end_time": "2017-11-24T23:24:33.572660Z",
     "start_time": "2017-11-24T23:24:23.027780Z"
    }
   },
   "outputs": [],
   "source": [
    "display_all(songs_extra.describe(include='all').transpose())"
   ]
  },
  {
   "cell_type": "markdown",
   "metadata": {},
   "source": [
    "## `test.csv`"
   ]
  },
  {
   "cell_type": "code",
   "execution_count": null,
   "metadata": {
    "ExecuteTime": {
     "end_time": "2017-11-24T23:24:38.907617Z",
     "start_time": "2017-11-24T23:24:33.576378Z"
    }
   },
   "outputs": [],
   "source": [
    "test = pd.read_csv(f'{PATH}test.csv')\n",
    "test.head()"
   ]
  },
  {
   "cell_type": "code",
   "execution_count": null,
   "metadata": {
    "ExecuteTime": {
     "end_time": "2017-11-24T23:24:42.358556Z",
     "start_time": "2017-11-24T23:24:38.911098Z"
    }
   },
   "outputs": [],
   "source": [
    "display_all(test.describe(include='all').transpose())"
   ]
  },
  {
   "cell_type": "markdown",
   "metadata": {},
   "source": [
    "# Merge Data & Feature Engineering"
   ]
  },
  {
   "cell_type": "code",
   "execution_count": null,
   "metadata": {
    "ExecuteTime": {
     "end_time": "2017-11-24T23:24:49.032826Z",
     "start_time": "2017-11-24T23:24:42.362114Z"
    },
    "collapsed": true
   },
   "outputs": [],
   "source": [
    "train = train.merge(songs, on='song_id', how='left')"
   ]
  },
  {
   "cell_type": "code",
   "execution_count": null,
   "metadata": {
    "ExecuteTime": {
     "end_time": "2017-11-24T23:24:52.243663Z",
     "start_time": "2017-11-24T23:24:49.035469Z"
    },
    "collapsed": true
   },
   "outputs": [],
   "source": [
    "test = test.merge(songs, on='song_id', how='left')"
   ]
  },
  {
   "cell_type": "code",
   "execution_count": null,
   "metadata": {
    "ExecuteTime": {
     "end_time": "2017-11-24T23:24:52.550169Z",
     "start_time": "2017-11-24T23:24:52.246197Z"
    },
    "collapsed": true
   },
   "outputs": [],
   "source": [
    "members['membership_days'] = members['expiration_date'].subtract(members['registration_init_time']).dt.days.astype(int)"
   ]
  },
  {
   "cell_type": "code",
   "execution_count": null,
   "metadata": {
    "ExecuteTime": {
     "end_time": "2017-11-24T23:24:52.604569Z",
     "start_time": "2017-11-24T23:24:52.552624Z"
    },
    "collapsed": true
   },
   "outputs": [],
   "source": [
    "members['registration_year'] = members['registration_init_time'].dt.year\n",
    "members['registration_month'] = members['registration_init_time'].dt.month\n",
    "members['registration_date'] = members['registration_init_time'].dt.day"
   ]
  },
  {
   "cell_type": "code",
   "execution_count": null,
   "metadata": {
    "ExecuteTime": {
     "end_time": "2017-11-24T23:24:52.651634Z",
     "start_time": "2017-11-24T23:24:52.606979Z"
    },
    "collapsed": true
   },
   "outputs": [],
   "source": [
    "members['expiration_year'] = members['expiration_date'].dt.year\n",
    "members['expiration_month'] = members['expiration_date'].dt.month\n",
    "members['expiration_date'] = members['expiration_date'].dt.day"
   ]
  },
  {
   "cell_type": "code",
   "execution_count": null,
   "metadata": {
    "ExecuteTime": {
     "end_time": "2017-11-24T23:24:52.706112Z",
     "start_time": "2017-11-24T23:24:52.654763Z"
    }
   },
   "outputs": [],
   "source": [
    "members.head()"
   ]
  },
  {
   "cell_type": "code",
   "execution_count": null,
   "metadata": {
    "ExecuteTime": {
     "end_time": "2017-11-24T23:24:52.749663Z",
     "start_time": "2017-11-24T23:24:52.709317Z"
    },
    "collapsed": true
   },
   "outputs": [],
   "source": [
    "def isrc_to_year(isrc):\n",
    "    if type(isrc) == str:\n",
    "        if int(isrc[5:7]) > 17:\n",
    "            return 1900 + int(isrc[5:7])\n",
    "        else:\n",
    "            return 2000 + int(isrc[5:7])\n",
    "    else:\n",
    "        return np.nan"
   ]
  },
  {
   "cell_type": "code",
   "execution_count": null,
   "metadata": {
    "ExecuteTime": {
     "end_time": "2017-11-24T23:24:55.435494Z",
     "start_time": "2017-11-24T23:24:52.753125Z"
    },
    "collapsed": true
   },
   "outputs": [],
   "source": [
    "songs_extra['song_year'] = songs_extra['isrc'].apply(isrc_to_year)"
   ]
  },
  {
   "cell_type": "code",
   "execution_count": null,
   "metadata": {
    "ExecuteTime": {
     "end_time": "2017-11-24T23:25:04.961438Z",
     "start_time": "2017-11-24T23:24:55.438112Z"
    },
    "collapsed": true
   },
   "outputs": [],
   "source": [
    "train = train.merge(members, on='msno', how='left')\n",
    "test = test.merge(members, on='msno', how='left')"
   ]
  },
  {
   "cell_type": "code",
   "execution_count": null,
   "metadata": {
    "ExecuteTime": {
     "end_time": "2017-11-24T23:25:17.561353Z",
     "start_time": "2017-11-24T23:25:04.966953Z"
    },
    "collapsed": true
   },
   "outputs": [],
   "source": [
    "train = train.merge(songs_extra, on = 'song_id', how = 'left')\n",
    "train.song_length.fillna(200000,inplace=True)\n",
    "train.song_length = train.song_length.astype(np.uint32)\n",
    "train.song_id = train.song_id.astype('category')"
   ]
  },
  {
   "cell_type": "code",
   "execution_count": null,
   "metadata": {
    "ExecuteTime": {
     "end_time": "2017-11-24T23:25:23.334282Z",
     "start_time": "2017-11-24T23:25:17.564079Z"
    },
    "collapsed": true
   },
   "outputs": [],
   "source": [
    "test = test.merge(songs_extra, on = 'song_id', how = 'left')\n",
    "test.song_length.fillna(200000,inplace=True)\n",
    "test.song_length = test.song_length.astype(np.uint32)\n",
    "test.song_id = test.song_id.astype('category')"
   ]
  },
  {
   "cell_type": "code",
   "execution_count": null,
   "metadata": {
    "ExecuteTime": {
     "end_time": "2017-11-24T23:25:42.187067Z",
     "start_time": "2017-11-24T23:25:23.339308Z"
    },
    "collapsed": true
   },
   "outputs": [],
   "source": [
    "train_cats(train)\n",
    "train_cats(test)"
   ]
  },
  {
   "cell_type": "code",
   "execution_count": null,
   "metadata": {
    "ExecuteTime": {
     "end_time": "2017-11-24T23:25:56.294678Z",
     "start_time": "2017-11-24T23:25:42.189678Z"
    }
   },
   "outputs": [],
   "source": [
    "display_all(train.isnull().sum().sort_index()/len(train))"
   ]
  },
  {
   "cell_type": "markdown",
   "metadata": {},
   "source": [
    "# More Features"
   ]
  },
  {
   "cell_type": "code",
   "execution_count": null,
   "metadata": {
    "ExecuteTime": {
     "end_time": "2017-11-24T23:25:56.941876Z",
     "start_time": "2017-11-24T23:25:56.514279Z"
    },
    "collapsed": true
   },
   "outputs": [],
   "source": [
    "def genre_id_count(x):\n",
    "    if x == 'no_genre_id':\n",
    "        return 0\n",
    "    else:\n",
    "        return x.count('|') + 1\n",
    "\n",
    "train['genre_ids'] = train['genre_ids'].cat.add_categories(['no_genre_id'])    # cat accesses categorical properties\n",
    "test['genre_ids'] = test['genre_ids'].cat.add_categories(['no_genre_id'])\n",
    "\n",
    "train['genre_ids'].fillna('no_genre_id', inplace=True)\n",
    "test['genre_ids'].fillna('no_genre_id', inplace=True)\n",
    "train['genre_ids_count'] = train['genre_ids'].apply(genre_id_count).astype(np.int8)\n",
    "test['genre_ids_count'] = test['genre_ids'].apply(genre_id_count).astype(np.int8)"
   ]
  },
  {
   "cell_type": "code",
   "execution_count": null,
   "metadata": {
    "ExecuteTime": {
     "end_time": "2017-11-24T23:25:57.508067Z",
     "start_time": "2017-11-24T23:25:56.945073Z"
    },
    "collapsed": true
   },
   "outputs": [],
   "source": [
    "def lyricist_count(x):\n",
    "    if x == 'no_lyricist':\n",
    "        return 0\n",
    "    else:\n",
    "        return sum(map(x.count, ['|', '/', '\\\\', ';'])) + 1\n",
    "    return sum(map(x.count, ['|', '/', '\\\\', ';']))\n",
    "\n",
    "train['lyricist'] = train['lyricist'].cat.add_categories(['no_lyricist'])\n",
    "train['lyricist'].fillna('no_lyricist', inplace=True)\n",
    "train['lyricists_count'] = train['lyricist'].apply(lyricist_count).astype(np.int8)\n",
    "test['lyricist'] = test['lyricist'].cat.add_categories(['no_lyricist'])\n",
    "test['lyricist'].fillna('no_lyricist', inplace=True)\n",
    "test['lyricists_count'] = test['lyricist'].apply(lyricist_count).astype(np.int8)"
   ]
  },
  {
   "cell_type": "code",
   "execution_count": null,
   "metadata": {
    "ExecuteTime": {
     "end_time": "2017-11-24T23:25:58.325066Z",
     "start_time": "2017-11-24T23:25:57.510698Z"
    },
    "collapsed": true
   },
   "outputs": [],
   "source": [
    "def composer_count(x):\n",
    "    if x == 'no_composer':\n",
    "        return 0\n",
    "    else:\n",
    "        return sum(map(x.count, ['|', '/', '\\\\', ';'])) + 1\n",
    "\n",
    "train['composer'] = train['composer'].cat.add_categories(['no_composer'])\n",
    "train['composer'].fillna('no_composer',inplace=True)\n",
    "train['composer_count'] = train['composer'].apply(composer_count).astype(np.int8)\n",
    "test['composer'] = test['composer'].cat.add_categories(['no_composer'])\n",
    "test['composer'].fillna('no_composer',inplace=True)\n",
    "test['composer_count'] = test['composer'].apply(composer_count).astype(np.int8)\n",
    "\n"
   ]
  },
  {
   "cell_type": "code",
   "execution_count": null,
   "metadata": {
    "ExecuteTime": {
     "end_time": "2017-11-24T23:25:58.783180Z",
     "start_time": "2017-11-24T23:25:58.328387Z"
    },
    "collapsed": true
   },
   "outputs": [],
   "source": [
    "def is_featured(x):\n",
    "    if 'feat' in str(x) :\n",
    "        return 1\n",
    "    return 0\n",
    "\n",
    "train['artist_name'] = train['artist_name'].cat.add_categories(['no_artist'])\n",
    "train['artist_name'].fillna('no_artist',inplace=True)\n",
    "train['is_featured'] = train['artist_name'].apply(is_featured).astype(np.int8)\n",
    "test['artist_name'] = test['artist_name'].cat.add_categories(['no_artist'])\n",
    "test['artist_name'].fillna('no_artist',inplace=True)\n",
    "test['is_featured'] = test['artist_name'].apply(is_featured).astype(np.int8)"
   ]
  },
  {
   "cell_type": "code",
   "execution_count": null,
   "metadata": {
    "ExecuteTime": {
     "end_time": "2017-11-24T23:25:59.820541Z",
     "start_time": "2017-11-24T23:25:58.785716Z"
    },
    "collapsed": true
   },
   "outputs": [],
   "source": [
    "def artist_count(x):\n",
    "    if x == 'no_artist':\n",
    "        return 0\n",
    "    else:\n",
    "        return x.count(' and') + x.count(',') + x.count(' feat') + x.count('&') + 1\n",
    "\n",
    "train['artist_count'] = train['artist_name'].apply(artist_count).astype(np.int8)\n",
    "test['artist_count'] = test['artist_name'].apply(artist_count).astype(np.int8)\n",
    "\n",
    "# if artist is same as composer\n",
    "train['artist_composer'] = (np.asarray(train['artist_name']) == np.asarray(train['composer'])).astype(np.int8)\n",
    "test['artist_composer'] = (np.asarray(test['artist_name']) == np.asarray(test['composer'])).astype(np.int8)"
   ]
  },
  {
   "cell_type": "code",
   "execution_count": null,
   "metadata": {
    "ExecuteTime": {
     "end_time": "2017-11-24T23:26:02.611726Z",
     "start_time": "2017-11-24T23:25:59.823434Z"
    },
    "collapsed": true
   },
   "outputs": [],
   "source": [
    "# if artist, lyricist and composer are all three same\n",
    "train['artist_composer_lyricist'] = ((np.asarray(train['artist_name']) == np.asarray(train['composer'])) & \n",
    "                                     np.asarray((train['artist_name']) == np.asarray(train['lyricist'])) & \n",
    "                                     np.asarray((train['composer']) == np.asarray(train['lyricist']))).astype(np.int8)\n",
    "test['artist_composer_lyricist'] = ((np.asarray(test['artist_name']) == np.asarray(test['composer'])) & \n",
    "                                    (np.asarray(test['artist_name']) == np.asarray(test['lyricist'])) &\n",
    "                                    np.asarray((test['composer']) == np.asarray(test['lyricist']))).astype(np.int8)"
   ]
  },
  {
   "cell_type": "code",
   "execution_count": null,
   "metadata": {
    "ExecuteTime": {
     "end_time": "2017-11-24T23:26:11.959511Z",
     "start_time": "2017-11-24T23:26:02.614372Z"
    },
    "collapsed": true
   },
   "outputs": [],
   "source": [
    "# is song language 17 or 45. \n",
    "def song_lang_boolean(x):\n",
    "    if '17.0' in str(x) or '45.0' in str(x):\n",
    "        return 1\n",
    "    return 0\n",
    "\n",
    "train['song_lang_boolean'] = train['language'].apply(song_lang_boolean).astype(np.int8)\n",
    "test['song_lang_boolean'] = test['language'].apply(song_lang_boolean).astype(np.int8)"
   ]
  },
  {
   "cell_type": "code",
   "execution_count": null,
   "metadata": {
    "ExecuteTime": {
     "end_time": "2017-11-24T23:26:17.946298Z",
     "start_time": "2017-11-24T23:26:11.961794Z"
    },
    "collapsed": true
   },
   "outputs": [],
   "source": [
    "_median_song_length = np.median(train['song_length'])\n",
    "def smaller_song(x):\n",
    "    if x < _median_song_length:\n",
    "        return 1\n",
    "    return 0\n",
    "\n",
    "train['smaller_song'] = train['song_length'].apply(smaller_song).astype(np.int8)\n",
    "test['smaller_song'] = test['song_length'].apply(smaller_song).astype(np.int8)"
   ]
  },
  {
   "cell_type": "code",
   "execution_count": null,
   "metadata": {
    "ExecuteTime": {
     "end_time": "2017-11-24T23:26:17.946298Z",
     "start_time": "2017-11-24T23:26:11.961794Z"
    },
    "collapsed": true
   },
   "outputs": [],
   "source": [
    "from collections import Counter\n",
    "song_count = Counter(list(train['song_id']) + list(test['song_id']))  # counting test set occurrence as 1\n",
    "\n",
    "def count_song_played(x):\n",
    "    try:\n",
    "        return song_count[x]\n",
    "    except KeyError:\n",
    "        return 0\n",
    "\n",
    "        \n",
    "train['count_song_played'] = train['song_id'].apply(count_song_played).astype(np.int64)\n",
    "test['count_song_played'] = test['song_id'].apply(count_song_played).astype(np.int64)"
   ]
  },
  {
   "cell_type": "code",
   "execution_count": null,
   "metadata": {
    "ExecuteTime": {
     "end_time": "2017-11-24T23:26:20.202470Z",
     "start_time": "2017-11-24T23:26:19.686015Z"
    },
    "collapsed": true
   },
   "outputs": [],
   "source": [
    "artist_count = Counter(list(train['artist_name']) + list(test['artist_name']))\n",
    "def count_artist_played(x):\n",
    "    try:\n",
    "        return artist_count[x]\n",
    "    except KeyError:\n",
    "        return 0\n",
    "\n",
    "\n",
    "train['count_artist_played'] = train['artist_name'].apply(count_artist_played).astype(np.int64)\n",
    "test['count_artist_played'] = test['artist_name'].apply(count_artist_played).astype(np.int64)"
   ]
  },
  {
   "cell_type": "code",
   "execution_count": null,
   "metadata": {
    "ExecuteTime": {
     "end_time": "2017-11-24T23:26:20.270547Z",
     "start_time": "2017-11-24T23:26:20.205067Z"
    },
    "collapsed": true
   },
   "outputs": [],
   "source": [
    "# train['registration_year'][train['registration_year']==np.inf] = np.nan\n",
    "train.song_year.replace([np.inf, -np.inf], np.nan, inplace=True)"
   ]
  },
  {
   "cell_type": "code",
   "execution_count": null,
   "metadata": {
    "ExecuteTime": {
     "end_time": "2017-11-24T23:26:20.346170Z",
     "start_time": "2017-11-24T23:26:20.273025Z"
    },
    "collapsed": true
   },
   "outputs": [],
   "source": [
    "train.song_year.fillna(-1,inplace=True)\n",
    "train.song_year = train.song_year.astype('int64')"
   ]
  },
  {
   "cell_type": "code",
   "execution_count": null,
   "metadata": {
    "ExecuteTime": {
     "end_time": "2017-11-24T23:26:24.108473Z",
     "start_time": "2017-11-24T23:26:20.446960Z"
    },
    "collapsed": true
   },
   "outputs": [],
   "source": [
    "train = train.drop(['registration_init_time'], axis=1)"
   ]
  },
  {
   "cell_type": "code",
   "execution_count": null,
   "metadata": {
    "ExecuteTime": {
     "end_time": "2017-11-24T23:26:25.795060Z",
     "start_time": "2017-11-24T23:26:24.118099Z"
    },
    "collapsed": true
   },
   "outputs": [],
   "source": [
    "test.song_year.replace([np.inf, -np.inf], np.nan, inplace=True)\n",
    "test.song_year.fillna(-1,inplace=True)\n",
    "test.song_year = test.song_year.astype('int64')\n",
    "test = test.drop(['registration_init_time'], axis=1)"
   ]
  },
  {
   "cell_type": "code",
   "execution_count": null,
   "metadata": {
    "ExecuteTime": {
     "end_time": "2017-11-24T23:26:32.081732Z",
     "start_time": "2017-11-24T23:26:25.799452Z"
    },
    "collapsed": true
   },
   "outputs": [],
   "source": [
    "train = train.drop(['isrc'], axis=1)\n",
    "test = test.drop(['isrc'], axis=1)"
   ]
  },
  {
   "cell_type": "code",
   "execution_count": null,
   "metadata": {
    "ExecuteTime": {
     "end_time": "2017-11-24T23:26:32.175751Z",
     "start_time": "2017-11-24T23:26:32.085500Z"
    },
    "collapsed": true
   },
   "outputs": [],
   "source": [
    "train.language.fillna(-1,inplace=True)\n",
    "train.language = train.language.astype('int8')\n",
    "test.language.fillna(-1,inplace=True)\n",
    "test.language = test.language.astype('int8')"
   ]
  },
  {
   "cell_type": "code",
   "execution_count": null,
   "metadata": {
    "collapsed": true
   },
   "outputs": [],
   "source": [
    "# Number of times a song was played in a city\n",
    "# https://stackoverflow.com/questions/41682240/pandas-aggregate-count-in-dataframe\n",
    "plays_by_city = train.groupby(by=['city', 'song_id'], as_index=False)['target'].agg(['size']).reset_index()\n",
    "plays_by_city = plays_by_city.rename(columns = {'size':'num_plays_by_city'})\n",
    "train = pd.merge(train, plays_by_city, how='left', on=['city', 'song_id'])\n",
    "test = pd.merge(test, plays_by_city, how='left', on=['city', 'song_id'])"
   ]
  },
  {
   "cell_type": "code",
   "execution_count": null,
   "metadata": {
    "collapsed": true
   },
   "outputs": [],
   "source": [
    "train.count_song_played.fillna(-1, inplace=True)   # set to -1 because we divide using this value later; 0 will be a problem\n",
    "test.count_song_played.fillna(-1, inplace=True)"
   ]
  },
  {
   "cell_type": "code",
   "execution_count": null,
   "metadata": {
    "collapsed": true
   },
   "outputs": [],
   "source": [
    "# For each song, Ratio of 1 and 0 for target var\n",
    "successes = train.groupby(by = ['song_id'], as_index=False)['target'].sum()\n",
    "successes = successes.rename(columns = {'target':'successes'})\n",
    "train = pd.merge(train, successes, how='left', on=['song_id'])\n",
    "train['addiction_ratio'] = train['successes'] / train['count_song_played']\n",
    "train = train.drop(['successes'], axis=1)"
   ]
  },
  {
   "cell_type": "code",
   "execution_count": null,
   "metadata": {
    "collapsed": true
   },
   "outputs": [],
   "source": [
    "test = pd.merge(test, successes, how='left', on=['song_id'])\n",
    "test['addiction_ratio'] = test['successes'] / test['count_song_played']\n",
    "test = test.drop(['successes'], axis=1)"
   ]
  },
  {
   "cell_type": "code",
   "execution_count": null,
   "metadata": {
    "collapsed": true
   },
   "outputs": [],
   "source": [
    "train.addiction_ratio.fillna(0, inplace=True)\n",
    "test.addiction_ratio.fillna(0, inplace=True)"
   ]
  },
  {
   "cell_type": "code",
   "execution_count": null,
   "metadata": {
    "ExecuteTime": {
     "end_time": "2017-11-24T23:26:38.102102Z",
     "start_time": "2017-11-24T23:26:32.307495Z"
    },
    "collapsed": true
   },
   "outputs": [],
   "source": [
    "train.to_feather('/home/ubuntu/wsmd_music_rec/data/tmp/wsdm_train')\n",
    "test.to_feather('/home/ubuntu/wsmd_music_rec/data/tmp/wsdm_test')"
   ]
  },
  {
   "cell_type": "code",
   "execution_count": 7,
   "metadata": {
    "ExecuteTime": {
     "end_time": "2017-11-26T23:47:56.433780Z",
     "start_time": "2017-11-26T23:47:56.399254Z"
    },
    "collapsed": true
   },
   "outputs": [],
   "source": [
    "?apply_cats"
   ]
  },
  {
   "cell_type": "code",
   "execution_count": null,
   "metadata": {
    "collapsed": true
   },
   "outputs": [],
   "source": []
  }
 ],
 "metadata": {
  "kernelspec": {
   "display_name": "Python 3",
   "language": "python",
   "name": "python3"
  },
  "language_info": {
   "codemirror_mode": {
    "name": "ipython",
    "version": 3
   },
   "file_extension": ".py",
   "mimetype": "text/x-python",
   "name": "python",
   "nbconvert_exporter": "python",
   "pygments_lexer": "ipython3",
   "version": "3.6.3"
  },
  "toc": {
   "nav_menu": {},
   "number_sections": true,
   "sideBar": true,
   "skip_h1_title": false,
   "toc_cell": false,
   "toc_position": {},
   "toc_section_display": "block",
   "toc_window_display": false
  },
  "varInspector": {
   "cols": {
    "lenName": 16,
    "lenType": 16,
    "lenVar": 40
   },
   "kernels_config": {
    "python": {
     "delete_cmd_postfix": "",
     "delete_cmd_prefix": "del ",
     "library": "var_list.py",
     "varRefreshCmd": "print(var_dic_list())"
    },
    "r": {
     "delete_cmd_postfix": ") ",
     "delete_cmd_prefix": "rm(",
     "library": "var_list.r",
     "varRefreshCmd": "cat(var_dic_list()) "
    }
   },
   "position": {
    "height": "322px",
    "left": "378px",
    "right": "150px",
    "top": "119px",
    "width": "752px"
   },
   "types_to_exclude": [
    "module",
    "function",
    "builtin_function_or_method",
    "instance",
    "_Feature"
   ],
   "window_display": false
  }
 },
 "nbformat": 4,
 "nbformat_minor": 2
}
