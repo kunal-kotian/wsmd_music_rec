{
 "cells": [
  {
   "cell_type": "code",
   "execution_count": 1,
   "metadata": {
    "ExecuteTime": {
     "end_time": "2017-11-25T02:27:19.148360Z",
     "start_time": "2017-11-25T02:27:19.125982Z"
    }
   },
   "outputs": [
    {
     "data": {
      "text/html": [
       "<style>.container { width:100% !important; }</style>"
      ],
      "text/plain": [
       "<IPython.core.display.HTML object>"
      ]
     },
     "metadata": {},
     "output_type": "display_data"
    }
   ],
   "source": [
    "from IPython.core.display import HTML, display\n",
    "display(HTML(\"<style>.container { width:100% !important; }</style>\"))"
   ]
  },
  {
   "cell_type": "code",
   "execution_count": 2,
   "metadata": {
    "ExecuteTime": {
     "end_time": "2017-11-25T02:27:20.042499Z",
     "start_time": "2017-11-25T02:27:19.151532Z"
    }
   },
   "outputs": [],
   "source": [
    "%load_ext autoreload\n",
    "%autoreload 2\n",
    "%matplotlib inline"
   ]
  },
  {
   "cell_type": "code",
   "execution_count": 3,
   "metadata": {
    "ExecuteTime": {
     "end_time": "2017-11-25T02:27:20.304982Z",
     "start_time": "2017-11-25T02:27:20.045115Z"
    }
   },
   "outputs": [
    {
     "name": "stdout",
     "output_type": "stream",
     "text": [
      "ln: failed to create symbolic link './fastai': File exists\r\n"
     ]
    }
   ],
   "source": [
    "# Specify the path to the fastai directory\n",
    "lib_PATH = '/home/ubuntu/fastai/fastai'   # Update this\n",
    "!cd {lib_PATH}\n",
    "# Create sym-link to the fastai library\n",
    "!ln -s {lib_PATH} ./"
   ]
  },
  {
   "cell_type": "code",
   "execution_count": 4,
   "metadata": {
    "ExecuteTime": {
     "end_time": "2017-11-25T03:02:06.805287Z",
     "start_time": "2017-11-25T03:02:06.744474Z"
    }
   },
   "outputs": [],
   "source": [
    "# Load required modules\n",
    "from fastai.imports import *\n",
    "from fastai.structured import *\n",
    "from pandas_summary import DataFrameSummary\n",
    "from sklearn.ensemble import RandomForestClassifier\n",
    "from IPython.display import display\n",
    "from sklearn import metrics\n",
    "from sklearn.metrics import roc_auc_score\n",
    "from dateutil.relativedelta import relativedelta"
   ]
  },
  {
   "cell_type": "markdown",
   "metadata": {},
   "source": [
    "# Load Cleaned Data"
   ]
  },
  {
   "cell_type": "code",
   "execution_count": 35,
   "metadata": {
    "ExecuteTime": {
     "end_time": "2017-11-25T02:27:27.999422Z",
     "start_time": "2017-11-25T02:27:22.871909Z"
    }
   },
   "outputs": [],
   "source": [
    "train = pd.read_feather('/home/ubuntu/wsmd_music_rec/data/tmp/wsdm_train')\n",
    "test = pd.read_feather('/home/ubuntu/wsmd_music_rec/data/tmp/wsdm_test')"
   ]
  },
  {
   "cell_type": "code",
   "execution_count": 36,
   "metadata": {
    "ExecuteTime": {
     "end_time": "2017-11-25T02:27:27.999422Z",
     "start_time": "2017-11-25T02:27:22.871909Z"
    }
   },
   "outputs": [],
   "source": [
    "test.song_year.replace([np.inf, -np.inf], np.nan, inplace=True)\n",
    "test.song_year.fillna(-1,inplace=True)\n",
    "test.song_year = test.song_year.astype('int64')"
   ]
  },
  {
   "cell_type": "code",
   "execution_count": null,
   "metadata": {
    "ExecuteTime": {
     "end_time": "2017-11-25T02:27:37.682103Z",
     "start_time": "2017-11-25T02:27:28.002924Z"
    }
   },
   "outputs": [],
   "source": [
    "train.columns[train.isnull().any()]"
   ]
  },
  {
   "cell_type": "code",
   "execution_count": 6,
   "metadata": {
    "ExecuteTime": {
     "end_time": "2017-11-25T02:27:49.933379Z",
     "start_time": "2017-11-25T02:27:37.685351Z"
    }
   },
   "outputs": [],
   "source": [
    "df, y, nas = proc_df(train, 'target')    # proc_df deals with na values"
   ]
  },
  {
   "cell_type": "code",
   "execution_count": null,
   "metadata": {
    "ExecuteTime": {
     "end_time": "2017-11-25T02:27:56.622980Z",
     "start_time": "2017-11-25T02:27:49.941268Z"
    }
   },
   "outputs": [],
   "source": [
    "df.columns[df.isnull().any()]     # no nas left"
   ]
  },
  {
   "cell_type": "markdown",
   "metadata": {
    "ExecuteTime": {
     "end_time": "2017-11-24T23:32:24.464905Z",
     "start_time": "2017-11-24T23:32:24.421898Z"
    }
   },
   "source": [
    "# Split into Training + Validation Sets"
   ]
  },
  {
   "cell_type": "code",
   "execution_count": null,
   "metadata": {
    "ExecuteTime": {
     "end_time": "2017-11-25T02:27:59.431321Z",
     "start_time": "2017-11-25T02:27:57.540445Z"
    }
   },
   "outputs": [],
   "source": [
    "fig=plt.figure(figsize=(18, 16))\n",
    "test.song_year.value_counts().plot.barh()"
   ]
  },
  {
   "cell_type": "code",
   "execution_count": null,
   "metadata": {
    "ExecuteTime": {
     "end_time": "2017-11-25T02:27:57.536858Z",
     "start_time": "2017-11-25T02:27:56.626242Z"
    }
   },
   "outputs": [],
   "source": [
    "def split_vals(a, n): return a[:n].copy(), a[n:].copy()\n",
    "# https://www.kaggle.com/kamilkk/i-have-to-say-this\n",
    "# temporally ordered data - set val. set = test set's length\n",
    "len_valid = len(test)\n",
    "n_trn = len(df) - len_valid\n",
    "X_train, X_valid = split_vals(df, n_trn)\n",
    "y_train, y_valid = split_vals(y, n_trn)\n",
    "\n",
    "X_train.shape, y_train.shape, X_valid.shape"
   ]
  },
  {
   "cell_type": "markdown",
   "metadata": {},
   "source": [
    "# Train the Random Forest"
   ]
  },
  {
   "cell_type": "code",
   "execution_count": 10,
   "metadata": {
    "ExecuteTime": {
     "end_time": "2017-11-25T03:08:05.205742Z",
     "start_time": "2017-11-25T03:08:05.040268Z"
    }
   },
   "outputs": [],
   "source": [
    "def rmse(x,y): return math.sqrt(((x-y)**2).mean())\n",
    "\n",
    "def print_score(m):\n",
    "    auc_trn   = roc_auc_score(y_train, m.predict(X_train))\n",
    "    auc_valid = roc_auc_score(y_valid, m.predict(X_valid))\n",
    "    res = [auc_trn, auc_valid, rmse(m.predict(X_train), y_train), rmse(m.predict(X_valid), y_valid), \n",
    "           m.score(X_train, y_train), m.score(X_valid, y_valid)]\n",
    "    if hasattr(m, 'oob_score_'): res.append(m.oob_score_)\n",
    "    print('auc_trn, auc_valid, RMSE - train, RMSE - valid, R^2 - train, R^2 - valid')\n",
    "    print(res)\n",
    "    \n",
    "def print_score_final(m):\n",
    "    auc_trn = roc_auc_score(y, m.predict(df))\n",
    "    res = [auc_trn, rmse(m.predict(df), y), m.score(df, y)]\n",
    "    if hasattr(m, 'oob_score_'): res.append(m.oob_score_)\n",
    "    print('auc_trn, RMSE - train, R^2 - train')\n",
    "    print(res)"
   ]
  },
  {
   "cell_type": "code",
   "execution_count": null,
   "metadata": {
    "ExecuteTime": {
     "start_time": "2017-11-25T04:10:55.114Z"
    }
   },
   "outputs": [],
   "source": [
    "m = RandomForestClassifier(n_estimators=50, min_samples_leaf=20, n_jobs=-1, verbose=1)\n",
    "%time m.fit(X_train, y_train)\n",
    "print_score(m)"
   ]
  },
  {
   "cell_type": "markdown",
   "metadata": {},
   "source": [
    "# Retrain Model Using All Data"
   ]
  },
  {
   "cell_type": "code",
   "execution_count": null,
   "metadata": {},
   "outputs": [],
   "source": [
    "m_final = RandomForestClassifier(n_estimators=50, min_samples_leaf=20, n_jobs=-1, verbose=1)\n",
    "%time m_final.fit(df, y)"
   ]
  },
  {
   "cell_type": "code",
   "execution_count": 11,
   "metadata": {},
   "outputs": [
    {
     "name": "stderr",
     "output_type": "stream",
     "text": [
      "[Parallel(n_jobs=8)]: Done  34 tasks      | elapsed:   25.5s\n",
      "[Parallel(n_jobs=8)]: Done  50 out of  50 | elapsed:   34.1s finished\n",
      "[Parallel(n_jobs=8)]: Done  34 tasks      | elapsed:   25.2s\n",
      "[Parallel(n_jobs=8)]: Done  50 out of  50 | elapsed:   34.7s finished\n",
      "[Parallel(n_jobs=8)]: Done  34 tasks      | elapsed:   25.0s\n",
      "[Parallel(n_jobs=8)]: Done  50 out of  50 | elapsed:   34.4s finished\n"
     ]
    },
    {
     "name": "stdout",
     "output_type": "stream",
     "text": [
      "auc_trn, RMSE - train, R^2 - train\n",
      "[0.75533052178863902, 0.4944190111418818, 0.75554984142148374]\n"
     ]
    }
   ],
   "source": [
    "print_score_final(m_final)"
   ]
  },
  {
   "cell_type": "markdown",
   "metadata": {},
   "source": [
    "# Make Predictions"
   ]
  },
  {
   "cell_type": "code",
   "execution_count": null,
   "metadata": {},
   "outputs": [],
   "source": [
    "def add_dum_col(df):\n",
    "    df['dummy'] = 1\n",
    "    df_new, _, _ = proc_df(df, 'dummy')\n",
    "    return df_new\n",
    "\n",
    "test_num = add_dum_col(test)   # Numericalize grocery_test dataframe"
   ]
  },
  {
   "cell_type": "code",
   "execution_count": 50,
   "metadata": {},
   "outputs": [],
   "source": [
    "test_df, _, _ = proc_df(test, 'id')"
   ]
  },
  {
   "cell_type": "code",
   "execution_count": 51,
   "metadata": {},
   "outputs": [
    {
     "name": "stderr",
     "output_type": "stream",
     "text": [
      "[Parallel(n_jobs=8)]: Done  34 tasks      | elapsed:    6.3s\n"
     ]
    },
    {
     "name": "stdout",
     "output_type": "stream",
     "text": [
      "CPU times: user 1min 3s, sys: 940 ms, total: 1min 4s\n",
      "Wall time: 9.49 s\n"
     ]
    },
    {
     "name": "stderr",
     "output_type": "stream",
     "text": [
      "[Parallel(n_jobs=8)]: Done  50 out of  50 | elapsed:    8.7s finished\n"
     ]
    }
   ],
   "source": [
    "%time predictions = m_final.predict(test_df)"
   ]
  },
  {
   "cell_type": "code",
   "execution_count": 59,
   "metadata": {},
   "outputs": [],
   "source": [
    "output = pd.concat([test['id'], pd.DataFrame(predictions)], axis=1)\n",
    "output.columns = ['id', 'target']   #Changing column names\n",
    "output.to_csv('predicted.csv', index=False)"
   ]
  }
 ],
 "metadata": {
  "kernelspec": {
   "display_name": "Python 3",
   "language": "python",
   "name": "python3"
  },
  "language_info": {
   "codemirror_mode": {
    "name": "ipython",
    "version": 3
   },
   "file_extension": ".py",
   "mimetype": "text/x-python",
   "name": "python",
   "nbconvert_exporter": "python",
   "pygments_lexer": "ipython3",
   "version": "3.6.3"
  },
  "toc": {
   "nav_menu": {},
   "number_sections": true,
   "sideBar": true,
   "skip_h1_title": false,
   "toc_cell": false,
   "toc_position": {},
   "toc_section_display": "block",
   "toc_window_display": false
  },
  "varInspector": {
   "cols": {
    "lenName": 16,
    "lenType": 16,
    "lenVar": 40
   },
   "kernels_config": {
    "python": {
     "delete_cmd_postfix": "",
     "delete_cmd_prefix": "del ",
     "library": "var_list.py",
     "varRefreshCmd": "print(var_dic_list())"
    },
    "r": {
     "delete_cmd_postfix": ") ",
     "delete_cmd_prefix": "rm(",
     "library": "var_list.r",
     "varRefreshCmd": "cat(var_dic_list()) "
    }
   },
   "types_to_exclude": [
    "module",
    "function",
    "builtin_function_or_method",
    "instance",
    "_Feature"
   ],
   "window_display": false
  }
 },
 "nbformat": 4,
 "nbformat_minor": 2
}
